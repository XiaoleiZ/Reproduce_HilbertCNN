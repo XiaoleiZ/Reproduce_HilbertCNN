{
  "nbformat": 4,
  "nbformat_minor": 0,
  "metadata": {
    "colab": {
      "name": "Reproduce HibertCNN.ipynb",
      "version": "0.3.2",
      "provenance": [],
      "collapsed_sections": [],
      "include_colab_link": true
    },
    "kernelspec": {
      "name": "python3",
      "display_name": "Python 3"
    }
  },
  "cells": [
    {
      "cell_type": "markdown",
      "metadata": {
        "id": "view-in-github",
        "colab_type": "text"
      },
      "source": [
        "<a href=\"https://colab.research.google.com/github/XiaoleiZ/Reproduce_HilbertCNN/blob/master/Reproduce_HibertCNN.ipynb\" target=\"_parent\"><img src=\"https://colab.research.google.com/assets/colab-badge.svg\" alt=\"Open In Colab\"/></a>"
      ]
    },
    {
      "metadata": {
        "id": "CAMk30an3hwZ",
        "colab_type": "text"
      },
      "cell_type": "markdown",
      "source": [
        "Paper: AN IMAGE REPRESENTATION BASED CONVOLUTIONAL NETWORK FOR DNA CLASSIFICATION\n",
        "\n",
        "URL: image representation based convolutional network for dna classification\n",
        "\n",
        "Summary: Transform 1D-DNA sequence into 2D image to improve the classification performance of using CNN\n",
        "\n",
        "Plan: \n",
        "\n",
        "1.Transformation from 1D sequence to 2D image\n",
        "\n",
        "2.CNN classification network\n",
        "\n"
      ]
    },
    {
      "metadata": {
        "id": "7ND6wvI14vmS",
        "colab_type": "text"
      },
      "cell_type": "markdown",
      "source": [
        "DNA sequence representation\n",
        "\n",
        "1.Represent a sequence as a list of k-mers\n",
        "\n",
        "2.Transform each k-mer into a one-hot vector\n",
        "-> sequence is represented as a list of one-hot vector\n",
        "\n",
        "3.Use Hilbert Curves to assign each element of the list of k-mers to a pixel in an image"
      ]
    },
    {
      "metadata": {
        "id": "gA0ZZKMI5rCV",
        "colab_type": "code",
        "colab": {}
      },
      "cell_type": "code",
      "source": [
        "import numpy as np"
      ],
      "execution_count": 0,
      "outputs": []
    },
    {
      "metadata": {
        "id": "vexQNdBz6TKR",
        "colab_type": "code",
        "colab": {}
      },
      "cell_type": "code",
      "source": [
        "def kmerize(sequence, k=4):\n",
        "    \n",
        "    ###Description: represent a sequence as list of k-mers\n",
        "    ###Input: sequence (string), \n",
        "    ###       parameter k (k>=1), use 4 as default as shown in the paper.\n",
        "    ###Output: a list of k-mer strings (array)\n",
        "    \n",
        "    #include the list of k-mers\n",
        "    if k <1 or not int(k):\n",
        "      raise ValueError(\"k must be an integer larger than zero\");\n",
        "    \n",
        "    kmer_list = [];\n",
        "    \n",
        "    l=len(sequence);\n",
        "    for i in range(0,l-k+1): # 0...l-k, the last kmer is the segment between l-k,l\n",
        "      kmer_list.append(sequence[i:i+k]);\n",
        "    \n",
        "    return kmer_list;"
      ],
      "execution_count": 0,
      "outputs": []
    },
    {
      "metadata": {
        "id": "XBMT_JqKB-4W",
        "colab_type": "code",
        "colab": {}
      },
      "cell_type": "code",
      "source": [
        "def create_four_mer_ohv(k=4):\n",
        "  \n",
        "  ###Description: create a dictionary to store the one-hot-vector encoding (value) for each 4-mer (key)\n",
        "  \n",
        "  four_mer_list=[];\n",
        "  base = ['A','C','G','T'];\n",
        "  for n1 in base:\n",
        "    for n2 in base:\n",
        "      for n3 in base:\n",
        "        for n4 in base:\n",
        "          four_mer_list.append(n1+n2+n3+n4);\n",
        "  \n",
        "  four_mer_dict ={};\n",
        "  l=len(four_mer_list);\n",
        "  for i,x in enumerate(four_mer_list):\n",
        "    vector=np.zeros(l);\n",
        "    vector[i]=1;\n",
        "    four_mer_dict[x]=vector;\n",
        "    \n",
        "  return four_mer_dict;\n",
        "  "
      ],
      "execution_count": 0,
      "outputs": []
    },
    {
      "metadata": {
        "id": "tTyPaQvX8Mwo",
        "colab_type": "code",
        "colab": {}
      },
      "cell_type": "code",
      "source": [
        "def one_hot_vectorize(kmer_list,four_mer_dict):\n",
        "  \n",
        "  ###Description: transfrom a list of k-mers into a list of one-hot-vectors\n",
        "  ###Input: a list of k-mers representing a sequence\n",
        "  ###       a dictionary created beforehand to store the one-hot-vector encoding for each possible kmer\n",
        "  ###       (4-mer is used here)\n",
        "  ###Output: a list of one-hot-encoding vectors representing the sequence\n",
        "  return list(map(lambda x: four_mer_dict[x], kmer_list))\n"
      ],
      "execution_count": 0,
      "outputs": []
    },
    {
      "metadata": {
        "id": "tIVRJJ1cdfPG",
        "colab_type": "code",
        "colab": {}
      },
      "cell_type": "code",
      "source": [
        "def hilbert_curve (n):\n",
        "    #Description: Implementation of Hilbert space filling curve of order log2(n) \n",
        "    #             (number of cells: n*n) to map a distance in 1-D to coordinate in 2D array\n",
        "    #Input: the number of cells in each dimension\n",
        "    #return: 2D array - for each coordinate x,y, the value is the position in 1D the hlbert map corresponds to.\n",
        "    #\n",
        "    if n==2:\n",
        "        return np.array([[0,3],[1,2]],int)\n",
        "    unit=hilbert_curve(int(n/2));\n",
        "    #the number of cells in each quardrant\n",
        "    step = int(n**2/4)\n",
        "    #the directions of the four quardrant given in the paper\n",
        "    ########################\n",
        "    ### a # d #\n",
        "    ###   #   # \n",
        "    ########################\n",
        "    ### b # c #\n",
        "    ###   #   #\n",
        "    ########################\n",
        "    \n",
        "    #for the first quadrant: anti-closewise rotate 90 degree\n",
        "    a = np.flipud(np.rot90(unit));\n",
        "    b = unit +step\n",
        "    c = unit +step*2\n",
        "    d = np.fliplr(np.rot90(unit)) +step*3\n",
        "    #stack the four quardrant together\n",
        "    new = np.concatenate((np.concatenate((a,b),axis=0),np.concatenate((d,c),axis=0)),axis=1)\n",
        "    return new  "
      ],
      "execution_count": 0,
      "outputs": []
    },
    {
      "metadata": {
        "id": "CZZ-6AJsqUqa",
        "colab_type": "code",
        "colab": {}
      },
      "cell_type": "code",
      "source": [
        "def pixelize_seqs(seqs,k=4):\n",
        "  #Description: give a batch of sequence, process these sequences into images\n",
        "  #Input: a list of sequences, each element is a string\n",
        "  #Ouput: a list of images, each element is an image corresponding to the sequence\n",
        "  \n",
        "  #crop the hilbert curve\n",
        "  curve=hilbert_curve(2**5)[:,0:16]\n",
        "  n_height,n_width,n_depth = curve.shape+(256,)\n",
        "  \n",
        "  img_list = np.zeros((len(seqs),n_height,n_width,n_depth))\n",
        "  \n",
        "  for i in range(len(seqs)):\n",
        "    kmer_list=kmerize(seqs[i],k);\n",
        "    four_mer_dict=create_four_mer_ohv(k)\n",
        "    ohv_list=one_hot_vectorize(kmer_list,four_mer_dict)\n",
        "    for j in range(len(ohv_list)):\n",
        "    #find the coordinate in the img\n",
        "      img_list[i,np.where(curve==j)]=ohv_list[j]\n",
        "  \n",
        "  return img_list"
      ],
      "execution_count": 0,
      "outputs": []
    },
    {
      "metadata": {
        "id": "3OfeI60Ix3Jd",
        "colab_type": "code",
        "colab": {}
      },
      "cell_type": "code",
      "source": [
        "def read_data(file):\n",
        "  with open(file) as f:\n",
        "    content = f.readlines()\n",
        "  line=1\n",
        "  name=[]\n",
        "  seq=[]\n",
        "  label=[]\n",
        "  for x in content:\n",
        "    x=x.strip()\n",
        "    if line % 3 == 1:\n",
        "      name = name + [x[1:]] #remove \">\"\n",
        "    elif line % 3 == 2:\n",
        "      seq = seq + [x]\n",
        "    elif line % 3 == 0:\n",
        "      label = label + [x]\n",
        "    line += 1\n",
        "  \n",
        "  return name,seq,label"
      ],
      "execution_count": 0,
      "outputs": []
    },
    {
      "metadata": {
        "id": "0GrOUCdA1qmj",
        "colab_type": "code",
        "colab": {}
      },
      "cell_type": "code",
      "source": [
        "name,seq,label=read_data('H4.txt')\n",
        "imgs=pixelize_seqs(seq,k=4)"
      ],
      "execution_count": 0,
      "outputs": []
    },
    {
      "metadata": {
        "id": "E3XV3oj411dQ",
        "colab_type": "code",
        "colab": {
          "base_uri": "https://localhost:8080/",
          "height": 164
        },
        "outputId": "5bd1e46a-7619-42b7-c400-bf687b1ccbd6"
      },
      "cell_type": "code",
      "source": [
        "imgs.shape\n"
      ],
      "execution_count": 1,
      "outputs": [
        {
          "output_type": "error",
          "ename": "NameError",
          "evalue": "ignored",
          "traceback": [
            "\u001b[0;31m---------------------------------------------------------------------------\u001b[0m",
            "\u001b[0;31mNameError\u001b[0m                                 Traceback (most recent call last)",
            "\u001b[0;32m<ipython-input-1-ea542cc2be53>\u001b[0m in \u001b[0;36m<module>\u001b[0;34m()\u001b[0m\n\u001b[0;32m----> 1\u001b[0;31m \u001b[0mimgs\u001b[0m\u001b[0;34m.\u001b[0m\u001b[0mshape\u001b[0m\u001b[0;34m\u001b[0m\u001b[0;34m\u001b[0m\u001b[0m\n\u001b[0m",
            "\u001b[0;31mNameError\u001b[0m: name 'imgs' is not defined"
          ]
        }
      ]
    }
  ]
}