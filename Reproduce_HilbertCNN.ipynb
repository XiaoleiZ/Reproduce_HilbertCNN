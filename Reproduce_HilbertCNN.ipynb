{
  "nbformat": 4,
  "nbformat_minor": 0,
  "metadata": {
    "colab": {
      "name": "Reproduce HibertCNN.ipynb",
      "version": "0.3.2",
      "provenance": [],
      "include_colab_link": true
    },
    "kernelspec": {
      "name": "python3",
      "display_name": "Python 3"
    }
  },
  "cells": [
    {
      "cell_type": "markdown",
      "metadata": {
        "id": "view-in-github",
        "colab_type": "text"
      },
      "source": [
        "<a href=\"https://colab.research.google.com/github/XiaoleiZ/Reproduce_HilbertCNN/blob/master/Reproduce_HilbertCNN.ipynb\" target=\"_parent\"><img src=\"https://colab.research.google.com/assets/colab-badge.svg\" alt=\"Open In Colab\"/></a>"
      ]
    },
    {
      "metadata": {
        "id": "CAMk30an3hwZ",
        "colab_type": "text"
      },
      "cell_type": "markdown",
      "source": [
        "Paper: AN IMAGE REPRESENTATION BASED CONVOLUTIONAL NETWORK FOR DNA CLASSIFICATION\n",
        "\n",
        "URL: image representation based convolutional network for dna classification\n",
        "\n",
        "Summary: Transform 1D-DNA sequence into 2D image to improve the classification performance of using CNN\n",
        "\n",
        "Plan: \n",
        "\n",
        "1.Transformation from 1D sequence to 2D image\n",
        "\n",
        "2.CNN classification network\n",
        "\n"
      ]
    },
    {
      "metadata": {
        "id": "7ND6wvI14vmS",
        "colab_type": "text"
      },
      "cell_type": "markdown",
      "source": [
        "DNA sequence representation\n",
        "\n",
        "1.Represent a sequence as a list of k-mers\n",
        "\n",
        "2.Transform each k-mer into a one-hot vector\n",
        "-> sequence is represented as a list of one-hot vector\n",
        "\n",
        "3.Use Hilbert Curves to assign each element of the list of k-mers to a pixel in an image"
      ]
    },
    {
      "metadata": {
        "id": "gA0ZZKMI5rCV",
        "colab_type": "code",
        "colab": {}
      },
      "cell_type": "code",
      "source": [
        "import numpy as np"
      ],
      "execution_count": 0,
      "outputs": []
    },
    {
      "metadata": {
        "id": "vexQNdBz6TKR",
        "colab_type": "code",
        "colab": {}
      },
      "cell_type": "code",
      "source": [
        "def kmerize(sequence, k=4):\n",
        "    \n",
        "    ###Description: represent a sequence as list of k-mers\n",
        "    ###Input: sequence (string), \n",
        "    ###       parameter k (k>=1), use 4 as default as shown in the paper.\n",
        "    ###Output: a list of k-mer strings (array)\n",
        "    \n",
        "    #include the list of k-mers\n",
        "    if k <1 or not int(k):\n",
        "      raise ValueError(\"k must be an integer larger than zero\");\n",
        "    \n",
        "    kmer_list = [];\n",
        "    \n",
        "    l=len(sequence);\n",
        "    for i in range(0,l-k+1): # 0...l-k, the last kmer is the segment between l-k,l\n",
        "      kmer_list.append(sequence[i:i+k]);\n",
        "    \n",
        "    return kmer_list;"
      ],
      "execution_count": 0,
      "outputs": []
    },
    {
      "metadata": {
        "id": "XBMT_JqKB-4W",
        "colab_type": "code",
        "colab": {}
      },
      "cell_type": "code",
      "source": [
        "def create_four_mer_ohv(k=4):\n",
        "  \n",
        "  ###Description: create a dictionary to store the one-hot-vector encoding (value) for each 4-mer (key)\n",
        "  \n",
        "  four_mer_list=[];\n",
        "  base = ['A','C','G','T'];\n",
        "  for n1 in base:\n",
        "    for n2 in base:\n",
        "      for n3 in base:\n",
        "        for n4 in base:\n",
        "          four_mer_list.append(n1+n2+n3+n4);\n",
        "  \n",
        "  four_mer_dict ={};\n",
        "  l=len(four_mer_list);\n",
        "  for i,x in enumerate(four_mer_list):\n",
        "    vector=np.zeros(l);\n",
        "    vector[i]=1;\n",
        "    four_mer_dict[x]=vector;\n",
        "    \n",
        "  return four_mer_dict;\n",
        "  "
      ],
      "execution_count": 0,
      "outputs": []
    },
    {
      "metadata": {
        "id": "pfvkY2sVClQv",
        "colab_type": "code",
        "colab": {
          "base_uri": "https://localhost:8080/",
          "height": 34
        },
        "outputId": "25344b68-f80c-4de0-9ee6-c58444359ad1"
      },
      "cell_type": "code",
      "source": [
        "def pixelize(ohv_list):\n",
        "  \n",
        "  ###Description: transform a list of one hot vector into an image by transforming each one hot vector into a pixel of image\n",
        "  ###Input: a list of one hot vector representing the sequence\n",
        "  ###Output: an image (3D tensor)\n",
        "  ###Method(how to assign each of the one-hot vectors in the list to a pixel in the image)\n",
        "  ###use space-filling curves. Here the Hilbert curve is used.       \n",
        "  \n",
        "  get_xy_for_ohv(use order of 5 Hilbert space curves)\n",
        "  remove_the_lower_half_image\n",
        "  \n",
        "  \n",
        "  \n",
        "  \n",
        "  \n",
        "  "
      ],
      "execution_count": 50,
      "outputs": [
        {
          "output_type": "execute_result",
          "data": {
            "text/plain": [
              "5"
            ]
          },
          "metadata": {
            "tags": []
          },
          "execution_count": 50
        }
      ]
    },
    {
      "metadata": {
        "id": "tIVRJJ1cdfPG",
        "colab_type": "code",
        "colab": {}
      },
      "cell_type": "code",
      "source": [
        "def hilbert_dtoxy (n):\n",
        "  \n",
        "  ###Description: Implementation of Hilbert space filling curve of order n to map a distance in 1-D to coordinate in 2D\n",
        "  ###Input: order\n",
        "  ###output: a dictionary mapping the distance to 2D coordinates\n",
        "  "
      ],
      "execution_count": 0,
      "outputs": []
    },
    {
      "metadata": {
        "id": "tTyPaQvX8Mwo",
        "colab_type": "code",
        "colab": {}
      },
      "cell_type": "code",
      "source": [
        "def one_hot_vectorize(kmer_list,four_mer_dict):\n",
        "  \n",
        "  ###Description: transfrom a list of k-mers into a list of one-hot-vectors\n",
        "  ###Input: a list of k-mers representing a sequence\n",
        "  ###       a dictionary created beforehand to store the one-hot-vector encoding for each possible kmer\n",
        "  ###       (4-mer is used here)\n",
        "  ###Output: a list of one-hot-encoding vectors representing the sequence\n",
        "  return list(map(lambda x: four_mer_dict[x], kmer_list))\n"
      ],
      "execution_count": 0,
      "outputs": []
    }
  ]
}